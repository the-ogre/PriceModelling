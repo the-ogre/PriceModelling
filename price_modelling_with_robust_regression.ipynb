{
 "cells": [
  {
   "attachments": {},
   "cell_type": "markdown",
   "metadata": {},
   "source": [
    "The RANSACRegressor is a robust regression algorithm that fits a linear model to the data while ignoring outliers. It achieves this by iteratively fitting the model to random subsets of the data (inliers) and identifying the data points that are close to the fitted model (consensus set). The final model is then fit to the consensus set."
   ]
  },
  {
   "cell_type": "code",
   "execution_count": 8,
   "metadata": {},
   "outputs": [],
   "source": [
    "import numpy as np\n",
    "import pandas as pd\n",
    "train=pd.read_csv('IndoreHP_Train.csv')\n",
    "test=pd.read_csv('IndoreHP_Test.csv')\n",
    "\n",
    "X=train.drop(columns=['MEDV'])\n",
    "y=train['MEDV']\n",
    "\n",
    "from sklearn.model_selection import train_test_split\n",
    "X_train, X_test, y_train, y_test = \\\n",
    "    train_test_split(X, y, test_size=0.2, random_state=42)\n",
    "\n",
    "\n",
    "from sklearn.preprocessing import MinMaxScaler\n",
    "# Perform Min-Max scaling on the features\n",
    "scaler = MinMaxScaler(feature_range=(0,1))\n",
    "X_train = scaler.fit_transform(X_train)\n",
    "X_test = scaler.transform(X_test)\n",
    "test=scaler.transform(test)"
   ]
  },
  {
   "cell_type": "code",
   "execution_count": 22,
   "metadata": {},
   "outputs": [],
   "source": [
    "from sklearn.linear_model import RANSACRegressor, TheilSenRegressor, HuberRegressor\n",
    "from sklearn.model_selection import train_test_split, GridSearchCV\n",
    "from sklearn.metrics import mean_squared_error, r2_score, mean_absolute_error"
   ]
  },
  {
   "cell_type": "code",
   "execution_count": 10,
   "metadata": {},
   "outputs": [],
   "source": [
    "# RANSAC Regression\n",
    "ransac = RANSACRegressor()\n",
    "ransac_params = {'residual_threshold': np.linspace(1, 10, 10)}\n",
    "ransac_grid = GridSearchCV(ransac, ransac_params, scoring='neg_mean_squared_error', cv=5)\n",
    "ransac_grid.fit(X_train, y_train)\n",
    "ransac_best = ransac_grid.best_estimator_\n",
    "ransac_pred = ransac_best.predict(X_test)\n",
    "ransac_mse = mean_squared_error(y_test, ransac_pred)\n",
    "ransac_r2 = r2_score(y_test, ransac_pred)"
   ]
  },
  {
   "cell_type": "code",
   "execution_count": 11,
   "metadata": {},
   "outputs": [],
   "source": [
    "# Theil-Sen Regression\n",
    "theilsen = TheilSenRegressor()\n",
    "theilsen_params = {'max_subpopulation': [10, 20, 30]}\n",
    "theilsen_grid = GridSearchCV(theilsen, theilsen_params, scoring='neg_mean_squared_error', cv=5)\n",
    "theilsen_grid.fit(X_train, y_train)\n",
    "theilsen_best = theilsen_grid.best_estimator_\n",
    "theilsen_pred = theilsen_best.predict(X_test)\n",
    "theilsen_mse = mean_squared_error(y_test, theilsen_pred)\n",
    "theilsen_r2 = r2_score(y_test, theilsen_pred)"
   ]
  },
  {
   "cell_type": "code",
   "execution_count": 12,
   "metadata": {},
   "outputs": [],
   "source": [
    "huber = HuberRegressor()\n",
    "huber_params = {'epsilon': np.linspace(1.1, 2.0, 5)}\n",
    "huber_grid = GridSearchCV(huber, huber_params, scoring='neg_mean_squared_error', cv=5)\n",
    "huber_grid.fit(X_train, y_train)\n",
    "huber_best = huber_grid.best_estimator_\n",
    "huber_pred = huber_best.predict(X_test)\n",
    "huber_mse = mean_squared_error(y_test, huber_pred)\n",
    "huber_r2 = r2_score(y_test, huber_pred)"
   ]
  },
  {
   "cell_type": "code",
   "execution_count": 13,
   "metadata": {},
   "outputs": [
    {
     "name": "stdout",
     "output_type": "stream",
     "text": [
      "RANSAC Regression:\n",
      "Best Parameters: RANSACRegressor(residual_threshold=9.0)\n",
      "Mean Squared Error: 18.093565944292575\n",
      "R^2 Score: 0.7538117687401666\n",
      "\n",
      "Theil-Sen Regression:\n",
      "Best Parameters: TheilSenRegressor(max_subpopulation=30)\n",
      "Mean Squared Error: 20.659151915862896\n",
      "R^2 Score: 0.7189033889088723\n",
      "\n",
      "Huber Regression:\n",
      "Best Parameters: HuberRegressor(epsilon=1.55)\n",
      "Mean Squared Error: 13.810801754078668\n",
      "R^2 Score: 0.812084756173266\n"
     ]
    }
   ],
   "source": [
    "# Print results\n",
    "print(\"RANSAC Regression:\")\n",
    "print(\"Best Parameters:\", ransac_best)\n",
    "print(\"Mean Squared Error:\", ransac_mse)\n",
    "print(\"R^2 Score:\", ransac_r2)\n",
    "print()\n",
    "\n",
    "print(\"Theil-Sen Regression:\")\n",
    "print(\"Best Parameters:\", theilsen_best)\n",
    "print(\"Mean Squared Error:\", theilsen_mse)\n",
    "print(\"R^2 Score:\", theilsen_r2)\n",
    "print()\n",
    "\n",
    "print(\"Huber Regression:\")\n",
    "print(\"Best Parameters:\", huber_best)\n",
    "print(\"Mean Squared Error:\", huber_mse)\n",
    "print(\"R^2 Score:\", huber_r2)"
   ]
  },
  {
   "attachments": {},
   "cell_type": "markdown",
   "metadata": {},
   "source": [
    "Huber Regression works better then others, generally. Let's fine it a little bit more and train is properly on the dataset we have."
   ]
  },
  {
   "cell_type": "code",
   "execution_count": 14,
   "metadata": {},
   "outputs": [],
   "source": [
    "from skopt import BayesSearchCV"
   ]
  },
  {
   "cell_type": "code",
   "execution_count": 17,
   "metadata": {},
   "outputs": [],
   "source": [
    "# Define the parameter search space\n",
    "param_space = {\n",
    "    'epsilon': (1.0, 10.0),\n",
    "    'alpha': (1e-5, 1e-1, 'log-uniform'),\n",
    "    'max_iter': (100, 1000)\n",
    "}"
   ]
  },
  {
   "cell_type": "code",
   "execution_count": 18,
   "metadata": {},
   "outputs": [
    {
     "name": "stderr",
     "output_type": "stream",
     "text": [
      "/home/ogre/miniconda3/envs/py39/lib/python3.9/site-packages/sklearn/linear_model/_huber.py:342: ConvergenceWarning: lbfgs failed to converge (status=1):\n",
      "STOP: TOTAL NO. of ITERATIONS REACHED LIMIT.\n",
      "\n",
      "Increase the number of iterations (max_iter) or scale the data as shown in:\n",
      "    https://scikit-learn.org/stable/modules/preprocessing.html\n",
      "  self.n_iter_ = _check_optimize_result(\"lbfgs\", opt_res, self.max_iter)\n",
      "/home/ogre/miniconda3/envs/py39/lib/python3.9/site-packages/sklearn/linear_model/_huber.py:342: ConvergenceWarning: lbfgs failed to converge (status=1):\n",
      "STOP: TOTAL NO. of ITERATIONS REACHED LIMIT.\n",
      "\n",
      "Increase the number of iterations (max_iter) or scale the data as shown in:\n",
      "    https://scikit-learn.org/stable/modules/preprocessing.html\n",
      "  self.n_iter_ = _check_optimize_result(\"lbfgs\", opt_res, self.max_iter)\n",
      "/home/ogre/miniconda3/envs/py39/lib/python3.9/site-packages/sklearn/linear_model/_huber.py:342: ConvergenceWarning: lbfgs failed to converge (status=1):\n",
      "STOP: TOTAL NO. of ITERATIONS REACHED LIMIT.\n",
      "\n",
      "Increase the number of iterations (max_iter) or scale the data as shown in:\n",
      "    https://scikit-learn.org/stable/modules/preprocessing.html\n",
      "  self.n_iter_ = _check_optimize_result(\"lbfgs\", opt_res, self.max_iter)\n",
      "/home/ogre/miniconda3/envs/py39/lib/python3.9/site-packages/sklearn/linear_model/_huber.py:342: ConvergenceWarning: lbfgs failed to converge (status=1):\n",
      "STOP: TOTAL NO. of ITERATIONS REACHED LIMIT.\n",
      "\n",
      "Increase the number of iterations (max_iter) or scale the data as shown in:\n",
      "    https://scikit-learn.org/stable/modules/preprocessing.html\n",
      "  self.n_iter_ = _check_optimize_result(\"lbfgs\", opt_res, self.max_iter)\n",
      "/home/ogre/miniconda3/envs/py39/lib/python3.9/site-packages/sklearn/linear_model/_huber.py:342: ConvergenceWarning: lbfgs failed to converge (status=1):\n",
      "STOP: TOTAL NO. of ITERATIONS REACHED LIMIT.\n",
      "\n",
      "Increase the number of iterations (max_iter) or scale the data as shown in:\n",
      "    https://scikit-learn.org/stable/modules/preprocessing.html\n",
      "  self.n_iter_ = _check_optimize_result(\"lbfgs\", opt_res, self.max_iter)\n"
     ]
    },
    {
     "data": {
      "text/html": [
       "<style>#sk-container-id-1 {color: black;background-color: white;}#sk-container-id-1 pre{padding: 0;}#sk-container-id-1 div.sk-toggleable {background-color: white;}#sk-container-id-1 label.sk-toggleable__label {cursor: pointer;display: block;width: 100%;margin-bottom: 0;padding: 0.3em;box-sizing: border-box;text-align: center;}#sk-container-id-1 label.sk-toggleable__label-arrow:before {content: \"▸\";float: left;margin-right: 0.25em;color: #696969;}#sk-container-id-1 label.sk-toggleable__label-arrow:hover:before {color: black;}#sk-container-id-1 div.sk-estimator:hover label.sk-toggleable__label-arrow:before {color: black;}#sk-container-id-1 div.sk-toggleable__content {max-height: 0;max-width: 0;overflow: hidden;text-align: left;background-color: #f0f8ff;}#sk-container-id-1 div.sk-toggleable__content pre {margin: 0.2em;color: black;border-radius: 0.25em;background-color: #f0f8ff;}#sk-container-id-1 input.sk-toggleable__control:checked~div.sk-toggleable__content {max-height: 200px;max-width: 100%;overflow: auto;}#sk-container-id-1 input.sk-toggleable__control:checked~label.sk-toggleable__label-arrow:before {content: \"▾\";}#sk-container-id-1 div.sk-estimator input.sk-toggleable__control:checked~label.sk-toggleable__label {background-color: #d4ebff;}#sk-container-id-1 div.sk-label input.sk-toggleable__control:checked~label.sk-toggleable__label {background-color: #d4ebff;}#sk-container-id-1 input.sk-hidden--visually {border: 0;clip: rect(1px 1px 1px 1px);clip: rect(1px, 1px, 1px, 1px);height: 1px;margin: -1px;overflow: hidden;padding: 0;position: absolute;width: 1px;}#sk-container-id-1 div.sk-estimator {font-family: monospace;background-color: #f0f8ff;border: 1px dotted black;border-radius: 0.25em;box-sizing: border-box;margin-bottom: 0.5em;}#sk-container-id-1 div.sk-estimator:hover {background-color: #d4ebff;}#sk-container-id-1 div.sk-parallel-item::after {content: \"\";width: 100%;border-bottom: 1px solid gray;flex-grow: 1;}#sk-container-id-1 div.sk-label:hover label.sk-toggleable__label {background-color: #d4ebff;}#sk-container-id-1 div.sk-serial::before {content: \"\";position: absolute;border-left: 1px solid gray;box-sizing: border-box;top: 0;bottom: 0;left: 50%;z-index: 0;}#sk-container-id-1 div.sk-serial {display: flex;flex-direction: column;align-items: center;background-color: white;padding-right: 0.2em;padding-left: 0.2em;position: relative;}#sk-container-id-1 div.sk-item {position: relative;z-index: 1;}#sk-container-id-1 div.sk-parallel {display: flex;align-items: stretch;justify-content: center;background-color: white;position: relative;}#sk-container-id-1 div.sk-item::before, #sk-container-id-1 div.sk-parallel-item::before {content: \"\";position: absolute;border-left: 1px solid gray;box-sizing: border-box;top: 0;bottom: 0;left: 50%;z-index: -1;}#sk-container-id-1 div.sk-parallel-item {display: flex;flex-direction: column;z-index: 1;position: relative;background-color: white;}#sk-container-id-1 div.sk-parallel-item:first-child::after {align-self: flex-end;width: 50%;}#sk-container-id-1 div.sk-parallel-item:last-child::after {align-self: flex-start;width: 50%;}#sk-container-id-1 div.sk-parallel-item:only-child::after {width: 0;}#sk-container-id-1 div.sk-dashed-wrapped {border: 1px dashed gray;margin: 0 0.4em 0.5em 0.4em;box-sizing: border-box;padding-bottom: 0.4em;background-color: white;}#sk-container-id-1 div.sk-label label {font-family: monospace;font-weight: bold;display: inline-block;line-height: 1.2em;}#sk-container-id-1 div.sk-label-container {text-align: center;}#sk-container-id-1 div.sk-container {/* jupyter's `normalize.less` sets `[hidden] { display: none; }` but bootstrap.min.css set `[hidden] { display: none !important; }` so we also need the `!important` here to be able to override the default hidden behavior on the sphinx rendered scikit-learn.org. See: https://github.com/scikit-learn/scikit-learn/issues/21755 */display: inline-block !important;position: relative;}#sk-container-id-1 div.sk-text-repr-fallback {display: none;}</style><div id=\"sk-container-id-1\" class=\"sk-top-container\"><div class=\"sk-text-repr-fallback\"><pre>BayesSearchCV(cv=5, estimator=HuberRegressor(), n_iter=20,\n",
       "              scoring=&#x27;neg_mean_squared_error&#x27;,\n",
       "              search_spaces={&#x27;alpha&#x27;: (1e-05, 0.1, &#x27;log-uniform&#x27;),\n",
       "                             &#x27;epsilon&#x27;: (1.0, 10.0), &#x27;max_iter&#x27;: (100, 1000)})</pre><b>In a Jupyter environment, please rerun this cell to show the HTML representation or trust the notebook. <br />On GitHub, the HTML representation is unable to render, please try loading this page with nbviewer.org.</b></div><div class=\"sk-container\" hidden><div class=\"sk-item sk-dashed-wrapped\"><div class=\"sk-label-container\"><div class=\"sk-label sk-toggleable\"><input class=\"sk-toggleable__control sk-hidden--visually\" id=\"sk-estimator-id-1\" type=\"checkbox\" ><label for=\"sk-estimator-id-1\" class=\"sk-toggleable__label sk-toggleable__label-arrow\">BayesSearchCV</label><div class=\"sk-toggleable__content\"><pre>BayesSearchCV(cv=5, estimator=HuberRegressor(), n_iter=20,\n",
       "              scoring=&#x27;neg_mean_squared_error&#x27;,\n",
       "              search_spaces={&#x27;alpha&#x27;: (1e-05, 0.1, &#x27;log-uniform&#x27;),\n",
       "                             &#x27;epsilon&#x27;: (1.0, 10.0), &#x27;max_iter&#x27;: (100, 1000)})</pre></div></div></div><div class=\"sk-parallel\"><div class=\"sk-parallel-item\"><div class=\"sk-item\"><div class=\"sk-label-container\"><div class=\"sk-label sk-toggleable\"><input class=\"sk-toggleable__control sk-hidden--visually\" id=\"sk-estimator-id-2\" type=\"checkbox\" ><label for=\"sk-estimator-id-2\" class=\"sk-toggleable__label sk-toggleable__label-arrow\">estimator: HuberRegressor</label><div class=\"sk-toggleable__content\"><pre>HuberRegressor()</pre></div></div></div><div class=\"sk-serial\"><div class=\"sk-item\"><div class=\"sk-estimator sk-toggleable\"><input class=\"sk-toggleable__control sk-hidden--visually\" id=\"sk-estimator-id-3\" type=\"checkbox\" ><label for=\"sk-estimator-id-3\" class=\"sk-toggleable__label sk-toggleable__label-arrow\">HuberRegressor</label><div class=\"sk-toggleable__content\"><pre>HuberRegressor()</pre></div></div></div></div></div></div></div></div></div></div>"
      ],
      "text/plain": [
       "BayesSearchCV(cv=5, estimator=HuberRegressor(), n_iter=20,\n",
       "              scoring='neg_mean_squared_error',\n",
       "              search_spaces={'alpha': (1e-05, 0.1, 'log-uniform'),\n",
       "                             'epsilon': (1.0, 10.0), 'max_iter': (100, 1000)})"
      ]
     },
     "execution_count": 18,
     "metadata": {},
     "output_type": "execute_result"
    }
   ],
   "source": [
    "# Perform hyperparameter tuning with Bayesian optimization\n",
    "huber = HuberRegressor()\n",
    "huber_opt = BayesSearchCV(huber, param_space, scoring='neg_mean_squared_error', n_iter=20, cv=5)\n",
    "huber_opt.fit(X_train, y_train)"
   ]
  },
  {
   "cell_type": "code",
   "execution_count": 19,
   "metadata": {},
   "outputs": [],
   "source": [
    "# Get the best estimator and make predictions\n",
    "huber_best = huber_opt.best_estimator_\n",
    "huber_pred = huber_best.predict(X_test)\n",
    "huber_mse = mean_squared_error(y_test, huber_pred)\n",
    "huber_r2 = r2_score(y_test, huber_pred)"
   ]
  },
  {
   "cell_type": "code",
   "execution_count": 20,
   "metadata": {},
   "outputs": [
    {
     "name": "stdout",
     "output_type": "stream",
     "text": [
      "Huber Regression (with Bayesian Optimization):\n",
      "Best Parameters: OrderedDict([('alpha', 0.0003187733198338806), ('epsilon', 1.522618862156072), ('max_iter', 522)])\n",
      "Mean Squared Error: 13.832234236784991\n",
      "R^2 Score: 0.8117931373168602\n"
     ]
    }
   ],
   "source": [
    "# Print results\n",
    "print(\"Huber Regression (with Bayesian Optimization):\")\n",
    "print(\"Best Parameters:\", huber_opt.best_params_)\n",
    "print(\"Mean Squared Error:\", huber_mse)\n",
    "print(\"R^2 Score:\", huber_r2)"
   ]
  },
  {
   "cell_type": "code",
   "execution_count": 23,
   "metadata": {},
   "outputs": [
    {
     "name": "stdout",
     "output_type": "stream",
     "text": [
      "Validation MAE: 2.9203928514224633\n"
     ]
    }
   ],
   "source": [
    "mae = mean_absolute_error(y_test, huber_pred)\n",
    "print(\"Validation MAE:\", mae)"
   ]
  },
  {
   "cell_type": "code",
   "execution_count": 21,
   "metadata": {},
   "outputs": [
    {
     "data": {
      "text/html": [
       "<div>\n",
       "<style scoped>\n",
       "    .dataframe tbody tr th:only-of-type {\n",
       "        vertical-align: middle;\n",
       "    }\n",
       "\n",
       "    .dataframe tbody tr th {\n",
       "        vertical-align: top;\n",
       "    }\n",
       "\n",
       "    .dataframe thead th {\n",
       "        text-align: right;\n",
       "    }\n",
       "</style>\n",
       "<table border=\"1\" class=\"dataframe\">\n",
       "  <thead>\n",
       "    <tr style=\"text-align: right;\">\n",
       "      <th></th>\n",
       "      <th>ID</th>\n",
       "      <th>MEDV</th>\n",
       "    </tr>\n",
       "  </thead>\n",
       "  <tbody>\n",
       "    <tr>\n",
       "      <th>0</th>\n",
       "      <td>400</td>\n",
       "      <td>27.215499</td>\n",
       "    </tr>\n",
       "    <tr>\n",
       "      <th>1</th>\n",
       "      <td>401</td>\n",
       "      <td>16.864044</td>\n",
       "    </tr>\n",
       "    <tr>\n",
       "      <th>2</th>\n",
       "      <td>402</td>\n",
       "      <td>34.623084</td>\n",
       "    </tr>\n",
       "    <tr>\n",
       "      <th>3</th>\n",
       "      <td>403</td>\n",
       "      <td>27.964253</td>\n",
       "    </tr>\n",
       "    <tr>\n",
       "      <th>4</th>\n",
       "      <td>404</td>\n",
       "      <td>32.787391</td>\n",
       "    </tr>\n",
       "  </tbody>\n",
       "</table>\n",
       "</div>"
      ],
      "text/plain": [
       "    ID       MEDV\n",
       "0  400  27.215499\n",
       "1  401  16.864044\n",
       "2  402  34.623084\n",
       "3  403  27.964253\n",
       "4  404  32.787391"
      ]
     },
     "execution_count": 21,
     "metadata": {},
     "output_type": "execute_result"
    }
   ],
   "source": [
    "y_pred1=huber_best.predict(test)\n",
    "\n",
    "submission=pd.read_csv('IndoreHP_Sample.csv')\n",
    "submission['MEDV']=y_pred1\n",
    "submission.to_csv('./submission2.csv', index=False)\n",
    "submission.head()"
   ]
  }
 ],
 "metadata": {
  "kernelspec": {
   "display_name": "py39",
   "language": "python",
   "name": "python3"
  },
  "language_info": {
   "codemirror_mode": {
    "name": "ipython",
    "version": 3
   },
   "file_extension": ".py",
   "mimetype": "text/x-python",
   "name": "python",
   "nbconvert_exporter": "python",
   "pygments_lexer": "ipython3",
   "version": "3.9.16"
  },
  "orig_nbformat": 4
 },
 "nbformat": 4,
 "nbformat_minor": 2
}
